{
 "cells": [
  {
   "cell_type": "code",
   "execution_count": 24,
   "metadata": {
    "collapsed": true
   },
   "outputs": [],
   "source": [
    "import urllib\n",
    "from bs4 import BeautifulSoup\n",
    "from http.cookiejar import CookieJar\n",
    "import warnings\n",
    "warnings.filterwarnings(\"ignore\",category=UserWarning,module=\"bs4\")\n",
    "import random\n",
    "import time\n",
    "import csv\n",
    "import json\n",
    "import math\n",
    "import os.path"
   ]
  },
  {
   "cell_type": "code",
   "execution_count": 2,
   "metadata": {
    "collapsed": true
   },
   "outputs": [],
   "source": [
    "headers=[\n",
    "        ('Host', \"tripadvisor.in\"),\n",
    "        ('Accept', \"text/html,application/xhtml+xml,application/xml;q=0.9,image/webp,image/apng,*/*;q=0.8\"),\n",
    "        ('Accept-Language', \"en-GB,en-US;q=0.9,en;q=0.8\"),\n",
    "        ('X-Requested-With', \"XMLHttpRequest\"),\n",
    "        ('Referer', \"url\"),\n",
    "        ('Connection', \"keep-alive\"),\n",
    "        ('User-Agent', \"Mozilla/5.0 (Windows NT 6.1; WOW64) AppleWebKit/537.1 (KHTML, like Gecko) Chrome/22.0.1207.1 Safari/537.1\"),  #Keep this as last because of pop used\n",
    "]"
   ]
  },
  {
   "cell_type": "code",
   "execution_count": 3,
   "metadata": {
    "collapsed": true
   },
   "outputs": [],
   "source": [
    "userAgents=[\n",
    "        \"Mozilla/5.0 (Windows NT 6.1; WOW64) AppleWebKit/537.1 (KHTML, like Gecko) Chrome/22.0.1207.1 Safari/537.1\"\n",
    "        \"Mozilla/5.0 (X11; CrOS i686 2268.111.0) AppleWebKit/536.11 (KHTML, like Gecko) Chrome/20.0.1132.57 Safari/536.11\",\n",
    "        \"Mozilla/5.0 (Windows NT 6.1; WOW64) AppleWebKit/536.6 (KHTML, like Gecko) Chrome/20.0.1092.0 Safari/536.6\",\n",
    "        \"Mozilla/5.0 (Windows NT 6.2) AppleWebKit/536.6 (KHTML, like Gecko) Chrome/20.0.1090.0 Safari/536.6\",\n",
    "        \"Mozilla/5.0 (Windows NT 6.2; WOW64) AppleWebKit/537.1 (KHTML, like Gecko) Chrome/19.77.34.5 Safari/537.1\",\n",
    "        \"Mozilla/5.0 (X11; Linux x86_64) AppleWebKit/536.5 (KHTML, like Gecko) Chrome/19.0.1084.9 Safari/536.5\",\n",
    "        \"Mozilla/5.0 (Windows NT 6.0) AppleWebKit/536.5 (KHTML, like Gecko) Chrome/19.0.1084.36 Safari/536.5\",\n",
    "        \"Mozilla/5.0 (Windows NT 6.1; WOW64) AppleWebKit/536.3 (KHTML, like Gecko) Chrome/19.0.1063.0 Safari/536.3\",\n",
    "        \"Mozilla/5.0 (Windows NT 5.1) AppleWebKit/536.3 (KHTML, like Gecko) Chrome/19.0.1063.0 Safari/536.3\",\n",
    "        \"Mozilla/5.0 (Macintosh; Intel Mac OS X 10_8_0) AppleWebKit/536.3 (KHTML, like Gecko) Chrome/19.0.1063.0 Safari/536.3\",\n",
    "        \"Mozilla/5.0 (Windows NT 6.2) AppleWebKit/536.3 (KHTML, like Gecko) Chrome/19.0.1062.0 Safari/536.3\",\n",
    "        \"Mozilla/5.0 (Windows NT 6.1; WOW64) AppleWebKit/536.3 (KHTML, like Gecko) Chrome/19.0.1062.0 Safari/536.3\",\n",
    "        \"Mozilla/5.0 (Windows NT 6.2) AppleWebKit/536.3 (KHTML, like Gecko) Chrome/19.0.1061.1 Safari/536.3\",\n",
    "        \"Mozilla/5.0 (Windows NT 6.1; WOW64) AppleWebKit/536.3 (KHTML, like Gecko) Chrome/19.0.1061.1 Safari/536.3\",\n",
    "        \"Mozilla/5.0 (Windows NT 6.1) AppleWebKit/536.3 (KHTML, like Gecko) Chrome/19.0.1061.1 Safari/536.3\",\n",
    "        \"Mozilla/5.0 (Windows NT 6.2) AppleWebKit/536.3 (KHTML, like Gecko) Chrome/19.0.1061.0 Safari/536.3\",\n",
    "        \"Mozilla/5.0 (X11; Linux x86_64) AppleWebKit/535.24 (KHTML, like Gecko) Chrome/19.0.1055.1 Safari/535.24\",\n",
    "        \"Mozilla/5.0 (Windows NT 6.2; WOW64) AppleWebKit/535.24 (KHTML, like Gecko) Chrome/19.0.1055.1 Safari/535.24\"\n",
    "]"
   ]
  },
  {
   "cell_type": "code",
   "execution_count": 4,
   "metadata": {
    "collapsed": true
   },
   "outputs": [],
   "source": [
    "cookieJar=CookieJar()"
   ]
  },
  {
   "cell_type": "code",
   "execution_count": 5,
   "metadata": {
    "collapsed": true
   },
   "outputs": [],
   "source": [
    "opener=urllib.request.build_opener(urllib.request.HTTPCookieProcessor(cookieJar))"
   ]
  },
  {
   "cell_type": "code",
   "execution_count": 6,
   "metadata": {
    "collapsed": true
   },
   "outputs": [],
   "source": [
    "opener.addheaders=headers"
   ]
  },
  {
   "cell_type": "code",
   "execution_count": 7,
   "metadata": {
    "collapsed": true
   },
   "outputs": [],
   "source": [
    "query = 'jodhpur'"
   ]
  },
  {
   "cell_type": "code",
   "execution_count": 8,
   "metadata": {
    "collapsed": true
   },
   "outputs": [],
   "source": [
    "url='https://www.tripadvisor.in/TypeAheadJson?action=API&types=attr&urlList=false&query=' + query + '&max=10&uiOrigin=trip_search_Attractions&source=trip_search_Attractions'"
   ]
  },
  {
   "cell_type": "code",
   "execution_count": 9,
   "metadata": {},
   "outputs": [
    {
     "data": {
      "text/plain": [
       "'https://www.tripadvisor.in/TypeAheadJson?action=API&types=attr&urlList=false&query=jodhpur&max=10&uiOrigin=trip_search_Attractions&source=trip_search_Attractions'"
      ]
     },
     "execution_count": 9,
     "metadata": {},
     "output_type": "execute_result"
    }
   ],
   "source": [
    "url"
   ]
  },
  {
   "cell_type": "code",
   "execution_count": 10,
   "metadata": {
    "collapsed": true
   },
   "outputs": [],
   "source": [
    "response=opener.open(url)"
   ]
  },
  {
   "cell_type": "code",
   "execution_count": 11,
   "metadata": {
    "collapsed": true
   },
   "outputs": [],
   "source": [
    "content=response.read()"
   ]
  },
  {
   "cell_type": "code",
   "execution_count": 12,
   "metadata": {},
   "outputs": [],
   "source": [
    "data = json.loads(content)"
   ]
  },
  {
   "cell_type": "code",
   "execution_count": 13,
   "metadata": {
    "collapsed": true
   },
   "outputs": [],
   "source": [
    "url = 'https://www.tripadvisor.in' + data['results'][0]['url']"
   ]
  },
  {
   "cell_type": "code",
   "execution_count": 14,
   "metadata": {},
   "outputs": [
    {
     "data": {
      "text/plain": [
       "'https://www.tripadvisor.in/Attraction_Review-g297668-d2023149-Reviews-Flying_Fox_Jodhpur-Jodhpur_Jodhpur_District_Rajasthan.html'"
      ]
     },
     "execution_count": 14,
     "metadata": {},
     "output_type": "execute_result"
    }
   ],
   "source": [
    "url"
   ]
  },
  {
   "cell_type": "code",
   "execution_count": 15,
   "metadata": {},
   "outputs": [
    {
     "name": "stdout",
     "output_type": "stream",
     "text": [
      "934\n",
      "94\n",
      "https://www.tripadvisor.in/Attraction_Review-g297668-d2023149-Reviews-or10-Flying_Fox_Jodhpur-Jodhpur_Jodhpur_District_Rajasthan.html\n",
      "https://www.tripadvisor.in/Attraction_Review-g297668-d2023149-Reviews-or20-or10-Flying_Fox_Jodhpur-Jodhpur_Jodhpur_District_Rajasthan.html\n",
      "https://www.tripadvisor.in/Attraction_Review-g297668-d2023149-Reviews-or30-or20-or10-Flying_Fox_Jodhpur-Jodhpur_Jodhpur_District_Rajasthan.html\n"
     ]
    }
   ],
   "source": [
    "page_offset = 0\n",
    "headers.pop()\n",
    "headers.append(('User-Agent',random.SystemRandom().choice(userAgents)))\n",
    "cookieJar=CookieJar()\n",
    "opener=urllib.request.build_opener(urllib.request.HTTPCookieProcessor(cookieJar))\n",
    "opener.addheaders=headers\n",
    "response=opener.open(url)\n",
    "content=response.read()\n",
    "soup=BeautifulSoup(content)\n",
    "print(soup.find('span',{'class':'reviews_header_count'}).text.strip('()').replace(',',''))\n",
    "pages = math.ceil(int(soup.find('span',{'class':'reviews_header_count'}).text.strip('()').replace(',',''))/10)\n",
    "print(pages)\n",
    "pages = 3\n",
    "reviews=[]\n",
    "for i in range(pages):\n",
    "    \n",
    "    \n",
    "    headers.pop()\n",
    "    headers.append(('User-Agent',random.SystemRandom().choice(userAgents)))\n",
    "    cookieJar=CookieJar()\n",
    "    opener=urllib.request.build_opener(urllib.request.HTTPCookieProcessor(cookieJar))\n",
    "    opener.addheaders=headers\n",
    "    response=opener.open(url)\n",
    "    content=response.read()\n",
    "    soup=BeautifulSoup(content)\n",
    "    review_container = soup.findAll('div',{'class':'review-container'})\n",
    "    for review_div in review_container:\n",
    "        review = {}\n",
    "\n",
    "        review['review_heading'] = review_div.find('span',{'class':'noQuotes'}).text\n",
    "        review['review_text'] = review_div.find('p',{'class':'partial_entry'}).text\n",
    "        review['user_name'] = review_div.find('div',{'class':'userInfo'}).find('span').text.strip()\n",
    "        rating_div = review_div.find('div',{'class':'ratingInfo'})\n",
    "        review['review_rating'] = int(rating_div.span['class'][1].split('_')[1])/10\n",
    "        review['review_date'] = rating_div.find('span',{'class':'ratingDate'}).text.strip()\n",
    "        review['review_likes'] = review_div.find('span',{'class':'numHelp'}).text.strip()\n",
    "\n",
    "        if review['review_likes'] == '':\n",
    "            review['review_likes'] = 0        \n",
    "\n",
    "        reviews.append(review)\n",
    "        \n",
    "    page_offset += 10\n",
    "    url_splitted = url.split('-Reviews-')\n",
    "    url = url_splitted[0] + '-Reviews-or' + str(page_offset) + '-' + url_splitted[1]\n",
    "    print(url)\n",
    "    \n",
    "    \n",
    "    \n",
    "\n",
    "    "
   ]
  },
  {
   "cell_type": "code",
   "execution_count": 17,
   "metadata": {},
   "outputs": [
    {
     "data": {
      "text/plain": [
       "30"
      ]
     },
     "execution_count": 17,
     "metadata": {},
     "output_type": "execute_result"
    }
   ],
   "source": [
    "len(reviews)"
   ]
  },
  {
   "cell_type": "code",
   "execution_count": 22,
   "metadata": {},
   "outputs": [
    {
     "data": {
      "text/plain": [
       "{'review_date': 'Reviewed 19 March 2018',\n",
       " 'review_heading': 'Flying Fox (Zipline)',\n",
       " 'review_likes': 0,\n",
       " 'review_rating': 5.0,\n",
       " 'review_text': \"South Asia's best flyingfox.\\nIt was really fun to do zipline.\\nThey take all safety measurements before letting you.\\nThey also give you demo.\\nAnd for the price its the best, The zipline ride takes around 40-45 mins to complete as it contains 5 different...More\",\n",
       " 'user_name': 'abhishekgupta099'}"
      ]
     },
     "execution_count": 22,
     "metadata": {},
     "output_type": "execute_result"
    }
   ],
   "source": [
    "reviews[20]"
   ]
  },
  {
   "cell_type": "code",
   "execution_count": 29,
   "metadata": {},
   "outputs": [],
   "source": [
    "writeHeader=True\n",
    "if((os.path.exists('tripadvisor_attractions_reviews.csv'))):\n",
    "    writeHeader=False\n",
    "    \n",
    "with open('tripadvisor_attractions_reviews.csv', 'a') as f:\n",
    "    writer = csv.DictWriter(f, reviews[0].keys())\n",
    "    if writeHeader:\n",
    "        writer.writeheader()\n",
    "    for review in reviews:\n",
    "        writer.writerow(review)"
   ]
  },
  {
   "cell_type": "code",
   "execution_count": null,
   "metadata": {
    "collapsed": true
   },
   "outputs": [],
   "source": []
  }
 ],
 "metadata": {
  "kernelspec": {
   "display_name": "Python 3",
   "language": "python",
   "name": "python3"
  },
  "language_info": {
   "codemirror_mode": {
    "name": "ipython",
    "version": 3
   },
   "file_extension": ".py",
   "mimetype": "text/x-python",
   "name": "python",
   "nbconvert_exporter": "python",
   "pygments_lexer": "ipython3",
   "version": "3.6.3"
  }
 },
 "nbformat": 4,
 "nbformat_minor": 2
}
